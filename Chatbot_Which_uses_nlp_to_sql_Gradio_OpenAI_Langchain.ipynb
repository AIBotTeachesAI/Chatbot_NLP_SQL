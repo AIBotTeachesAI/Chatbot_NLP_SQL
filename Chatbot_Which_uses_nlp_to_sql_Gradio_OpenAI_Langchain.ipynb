{
 "cells": [
  {
   "cell_type": "code",
   "execution_count": null,
   "id": "981a2a4b-9375-4c2e-aa55-6182d4f73cc3",
   "metadata": {},
   "outputs": [],
   "source": []
  },
  {
   "cell_type": "markdown",
   "id": "c4e2e761-d8bc-4f0e-9bb2-062a37cc1ca8",
   "metadata": {},
   "source": [
    "### Use case \n",
    "\n",
    "Create a Customer service pre sales chatbot for a fictional  ecommerce company .\n",
    "\n",
    "Users will come to the website and ask questions about order status.\n",
    "\n",
    "The bot will ask user to enter either the order number or customer name.\n",
    "\n",
    "Based on that the bot will fetch the order and item details from a sql database.\n",
    "\n",
    "It will then respond to the customer about status of each item in the order.\n",
    "\n"
   ]
  },
  {
   "cell_type": "markdown",
   "id": "a44fa298-a906-4af6-8000-ceb9d1e8e16e",
   "metadata": {},
   "source": [
    "### order information Database\n",
    "\n",
    "We will create a sql database with 2 tables order_data and item_data.\n",
    "\n",
    "To make it interesting, We will also use the LLM to do nlp/english language commands to sql conversion\n",
    "\n"
   ]
  },
  {
   "cell_type": "markdown",
   "id": "8045cce6-c09e-49a5-9666-3f79852136e1",
   "metadata": {},
   "source": [
    "### Libraries used \n",
    "\n",
    "gradio to create Chatbot UIs\n",
    "\n",
    "langchain.\n",
    "\n",
    "sqllite to store order information.\n",
    "\n",
    "open AI for  nlp/english language commands to sql conversion\n",
    "\n",
    "open AI for chat responses\n",
    "\n"
   ]
  },
  {
   "cell_type": "markdown",
   "id": "682f830a-9d4e-4264-b6fc-b24ab1588cc5",
   "metadata": {},
   "source": [
    "### Install Gradio"
   ]
  },
  {
   "cell_type": "code",
   "execution_count": null,
   "id": "d8b7b632-de75-42b8-8d3a-440a2a49dd12",
   "metadata": {},
   "outputs": [],
   "source": [
    "#!pip install --upgrade gradio"
   ]
  },
  {
   "cell_type": "markdown",
   "id": "cba1134b-9a40-4c55-bd30-a3fab1ffb17b",
   "metadata": {},
   "source": [
    "### Install Langchain"
   ]
  },
  {
   "cell_type": "code",
   "execution_count": null,
   "id": "d54bc39a-3185-4c7f-91f2-d91fa5b926a1",
   "metadata": {},
   "outputs": [],
   "source": [
    "#!pip install langchain==0.1.0\n",
    "#!pip install langchain_openai\n",
    "#!pip install openai==1.7.1\n"
   ]
  },
  {
   "cell_type": "markdown",
   "id": "be2ef6a0-6478-4766-a454-783a9465a883",
   "metadata": {},
   "source": [
    "### Create order Information Database"
   ]
  },
  {
   "cell_type": "code",
   "execution_count": 1,
   "id": "ae2a9e45-b005-45f9-870a-bfd1ea470cf1",
   "metadata": {},
   "outputs": [],
   "source": [
    "# Import the sqlite3 library\n",
    "import sqlite3\n",
    "\n",
    "conn = sqlite3.connect('order_information.db',check_same_thread=False)\n",
    "cursor = conn.cursor()\n",
    "\n",
    "cursor.execute('DROP TABLE IF EXISTS order_data')\n",
    "\n",
    "cursor.execute('''\n",
    "CREATE TABLE order_data (\n",
    "    order_no INTEGER PRIMARY KEY,\n",
    "    customer_name TEXT\n",
    "    )\n",
    "''')\n",
    "\n",
    "# Insert rows of data into the table\n",
    "rows_to_insert = [\n",
    "    (1, 'Alice'),\n",
    "    (2, 'Bob'),\n",
    "    (3, 'Charlie')\n",
    "]\n",
    "\n",
    "# Use executemany() to insert multiple rows\n",
    "cursor.executemany('INSERT INTO order_data VALUES (?, ?)', rows_to_insert)\n",
    "\n",
    "# Commit the changes\n",
    "conn.commit()\n",
    "\n"
   ]
  },
  {
   "cell_type": "code",
   "execution_count": 2,
   "id": "565704c2-548c-4414-a280-80c8e10ddb0b",
   "metadata": {},
   "outputs": [],
   "source": [
    "\n",
    "cursor.execute('DROP TABLE IF EXISTS item_data')\n",
    "\n",
    "\n",
    "cursor.execute('''\n",
    "CREATE  TABLE item_data (\n",
    "    order_no INTEGER ,\n",
    "    item_no INTEGER,\n",
    "    item_name TEXT,\n",
    "    item_amount float,\n",
    "    status TEXT\n",
    "    )\n",
    "''')\n",
    "\n",
    "# Insert rows of data into the table\n",
    "rows_to_insert = [\n",
    "    (1, 100,'TV',600, 'Shipped'),\n",
    "    (1, 101,'Fridge',200, 'In Process'),\n",
    "    (2, 200,'VR glasses',400, 'Shipped'),\n",
    "    (2, 201,'Pet robot',100, 'Shipped'),\n",
    "    (3, 100,'TV',100, 'Cancelled')\n",
    "]\n",
    "\n",
    "# Use executemany() to insert multiple rows\n",
    "cursor.executemany('INSERT INTO item_data VALUES (?, ?, ?, ?, ?)', rows_to_insert)\n",
    "\n",
    "# Commit the changes\n",
    "conn.commit()\n",
    "\n",
    "# Always close the connection when done\n",
    "#conn.close()"
   ]
  },
  {
   "cell_type": "markdown",
   "id": "f60df595-8c22-4c40-8a77-62366b8ac695",
   "metadata": {},
   "source": [
    "\n",
    "### NLP to SQL Conversion\n"
   ]
  },
  {
   "cell_type": "code",
   "execution_count": 3,
   "id": "e5850fd9-2497-4971-bc6f-6905a407f3af",
   "metadata": {},
   "outputs": [
    {
     "name": "stdout",
     "output_type": "stream",
     "text": [
      "resp SELECT od.order_no, od.customer_name, id.item_name, id.item_no, id.item_amount, id.status\n",
      "FROM order_data od\n",
      "JOIN item_data id ON od.order_no = id.order_no\n",
      "WHERE id.order_no = [input_order_number];\n"
     ]
    }
   ],
   "source": [
    "from langchain_openai import ChatOpenAI\n",
    "from langchain_core.messages import HumanMessage, SystemMessage\n",
    "import os\n",
    "\n",
    "chat = ChatOpenAI(openai_api_key=os.getenv(\"open_ai_secret_key\"))\n",
    "\n",
    "database_definitions= \"\"\" sql tables with table_names and column names as below.\n",
    "order_data (order_no, cusotmer_name)\n",
    "item_data (order_no, item_no, item_name, item_amount, status)\n",
    "\n",
    "\"\"\"\n",
    "\n",
    "order_number_query = f\"\"\"create a sql query to find order number, customer name, item_name, item number, \n",
    "amount, status using the table defintions specified in {database_definitions}.\n",
    "accept input_order_number as input in the where clause. It should be enclosed in square brackets.\n",
    "Just return the sql query as a string, do not add any explanation.\n",
    "Do not include ticks or word sql in the ouput.\n",
    "\"\"\"\n",
    "\n",
    "\n",
    "#print ('query',query)\n",
    "\n",
    "messages = [\n",
    "    SystemMessage(content=\"you are a helpful assistant \"),\n",
    "    HumanMessage(content=order_number_query),\n",
    "]\n",
    "resp= chat.invoke(messages)\n",
    "\n",
    "print ('resp',resp.content)"
   ]
  },
  {
   "cell_type": "code",
   "execution_count": 55,
   "id": "a7f74970-d792-4da0-b97a-d142889c010e",
   "metadata": {},
   "outputs": [
    {
     "data": {
      "text/plain": [
       "'SELECT order_data.order_no, order_data.customer_name, item_data.item_name, item_data.item_no, item_data.item_amount, item_data.status\\nFROM order_data\\nJOIN item_data ON order_data.order_no = item_data.order_no\\nWHERE order_data.order_no = 1;'"
      ]
     },
     "execution_count": 55,
     "metadata": {},
     "output_type": "execute_result"
    }
   ],
   "source": [
    "sql_query = resp.content.replace('[input_order_number]','1')\n",
    "sql_query"
   ]
  },
  {
   "cell_type": "code",
   "execution_count": 56,
   "id": "82672482-f964-4357-93d0-37c9652908d2",
   "metadata": {},
   "outputs": [
    {
     "data": {
      "text/html": [
       "<div>\n",
       "<style scoped>\n",
       "    .dataframe tbody tr th:only-of-type {\n",
       "        vertical-align: middle;\n",
       "    }\n",
       "\n",
       "    .dataframe tbody tr th {\n",
       "        vertical-align: top;\n",
       "    }\n",
       "\n",
       "    .dataframe thead th {\n",
       "        text-align: right;\n",
       "    }\n",
       "</style>\n",
       "<table border=\"1\" class=\"dataframe\">\n",
       "  <thead>\n",
       "    <tr style=\"text-align: right;\">\n",
       "      <th></th>\n",
       "      <th>order_no</th>\n",
       "      <th>customer_name</th>\n",
       "      <th>item_name</th>\n",
       "      <th>item_no</th>\n",
       "      <th>item_amount</th>\n",
       "      <th>status</th>\n",
       "    </tr>\n",
       "  </thead>\n",
       "  <tbody>\n",
       "    <tr>\n",
       "      <th>0</th>\n",
       "      <td>1</td>\n",
       "      <td>Alice</td>\n",
       "      <td>TV</td>\n",
       "      <td>100</td>\n",
       "      <td>600.0</td>\n",
       "      <td>Shipped</td>\n",
       "    </tr>\n",
       "    <tr>\n",
       "      <th>1</th>\n",
       "      <td>1</td>\n",
       "      <td>Alice</td>\n",
       "      <td>Fridge</td>\n",
       "      <td>101</td>\n",
       "      <td>200.0</td>\n",
       "      <td>In Process</td>\n",
       "    </tr>\n",
       "  </tbody>\n",
       "</table>\n",
       "</div>"
      ],
      "text/plain": [
       "   order_no customer_name item_name  item_no  item_amount      status\n",
       "0         1         Alice        TV      100        600.0     Shipped\n",
       "1         1         Alice    Fridge      101        200.0  In Process"
      ]
     },
     "execution_count": 56,
     "metadata": {},
     "output_type": "execute_result"
    }
   ],
   "source": [
    "import pandas as pd\n",
    "\n",
    "df = pd.read_sql_query(sql_query, conn)\n",
    "df\n"
   ]
  },
  {
   "cell_type": "code",
   "execution_count": 57,
   "id": "8fabcafe-d7b4-4ed6-a8a6-bfb8d3c979f6",
   "metadata": {},
   "outputs": [
    {
     "name": "stdout",
     "output_type": "stream",
     "text": [
      "resp SELECT od.order_no, od.customer_name, it.item_name, it.item_no, it.item_amount, it.status\n",
      "FROM order_data od\n",
      "JOIN item_data it ON od.order_no = it.order_no\n",
      "WHERE od.customer_name = [input_customer_name];\n"
     ]
    },
    {
     "data": {
      "text/html": [
       "<div>\n",
       "<style scoped>\n",
       "    .dataframe tbody tr th:only-of-type {\n",
       "        vertical-align: middle;\n",
       "    }\n",
       "\n",
       "    .dataframe tbody tr th {\n",
       "        vertical-align: top;\n",
       "    }\n",
       "\n",
       "    .dataframe thead th {\n",
       "        text-align: right;\n",
       "    }\n",
       "</style>\n",
       "<table border=\"1\" class=\"dataframe\">\n",
       "  <thead>\n",
       "    <tr style=\"text-align: right;\">\n",
       "      <th></th>\n",
       "      <th>order_no</th>\n",
       "      <th>customer_name</th>\n",
       "      <th>item_name</th>\n",
       "      <th>item_no</th>\n",
       "      <th>item_amount</th>\n",
       "      <th>status</th>\n",
       "    </tr>\n",
       "  </thead>\n",
       "  <tbody>\n",
       "    <tr>\n",
       "      <th>0</th>\n",
       "      <td>2</td>\n",
       "      <td>Bob</td>\n",
       "      <td>VR glasses</td>\n",
       "      <td>200</td>\n",
       "      <td>400.0</td>\n",
       "      <td>Shipped</td>\n",
       "    </tr>\n",
       "    <tr>\n",
       "      <th>1</th>\n",
       "      <td>2</td>\n",
       "      <td>Bob</td>\n",
       "      <td>Pet robot</td>\n",
       "      <td>201</td>\n",
       "      <td>100.0</td>\n",
       "      <td>Shipped</td>\n",
       "    </tr>\n",
       "  </tbody>\n",
       "</table>\n",
       "</div>"
      ],
      "text/plain": [
       "   order_no customer_name   item_name  item_no  item_amount   status\n",
       "0         2           Bob  VR glasses      200        400.0  Shipped\n",
       "1         2           Bob   Pet robot      201        100.0  Shipped"
      ]
     },
     "execution_count": 57,
     "metadata": {},
     "output_type": "execute_result"
    }
   ],
   "source": [
    "customer_name_query = f\"\"\"create a sql query to find order number, customer name, item_name, item number, \n",
    "amount, status using the table defintions specified in {database_definitions}.\n",
    "accept input_customer_name as input in the where clause.It should be enclosed in square brackets.\n",
    "\n",
    "Just return the sql query as a string, do not add any explanation.\n",
    "Do not include ticks or word sql in the ouput.\n",
    "\"\"\"\n",
    "\n",
    "\n",
    "#print ('query',query)\n",
    "\n",
    "messages = [\n",
    "    SystemMessage(content=\"you are a helpful assistant \"),\n",
    "    HumanMessage(content=customer_name_query),\n",
    "]\n",
    "resp= chat.invoke(messages)\n",
    "\n",
    "print ('resp',resp.content)\n",
    "\n",
    "sql_query = resp.content.replace('[input_customer_name]',\"'Bob'\")\n",
    "sql_query\n",
    "import pandas as pd\n",
    "\n",
    "df = pd.read_sql_query(sql_query, conn)\n",
    "df"
   ]
  },
  {
   "cell_type": "code",
   "execution_count": 4,
   "id": "8035cbbb-8749-446d-b894-b923e0c9bfd6",
   "metadata": {},
   "outputs": [
    {
     "name": "stdout",
     "output_type": "stream",
     "text": [
      "resp SELECT od.order_no, od.customer_name, id.item_name, id.item_no, id.item_amount, id.status\n",
      "FROM order_data od\n",
      "JOIN item_data id ON od.order_no = id.order_no\n",
      "WHERE od.customer_name = [input_customer_name] OR id.order_no = [input_order_number];\n"
     ]
    }
   ],
   "source": [
    "order_number_or_customer_name_query = f\"\"\"create a sql query to find order number, customer name, item_name, item number, \n",
    "amount, status using the table defintions specified in {database_definitions}.\n",
    "accept input_customer_name as input in the where clause.It should be enclosed in square brackets.\n",
    "accept input_order_number as input in the where clause. It should be enclosed in square brackets.\n",
    "use or clause to include both these inputs.\n",
    "Just return the sql query as a string, do not add any explanation.\n",
    "Do not include ticks or word sql in the ouput.\n",
    "\"\"\"\n",
    "\n",
    "\n",
    "#print ('query',query)\n",
    "\n",
    "messages = [\n",
    "    SystemMessage(content=\"you are a helpful assistant \"),\n",
    "    HumanMessage(content=order_number_or_customer_name_query),\n",
    "]\n",
    "resp= chat.invoke(messages)\n",
    "\n",
    "print ('resp',resp.content)\n",
    "\n"
   ]
  },
  {
   "cell_type": "code",
   "execution_count": 23,
   "id": "e092439b-f2bf-4e36-b25a-8b2afb4c2e49",
   "metadata": {},
   "outputs": [
    {
     "data": {
      "text/html": [
       "<div>\n",
       "<style scoped>\n",
       "    .dataframe tbody tr th:only-of-type {\n",
       "        vertical-align: middle;\n",
       "    }\n",
       "\n",
       "    .dataframe tbody tr th {\n",
       "        vertical-align: top;\n",
       "    }\n",
       "\n",
       "    .dataframe thead th {\n",
       "        text-align: right;\n",
       "    }\n",
       "</style>\n",
       "<table border=\"1\" class=\"dataframe\">\n",
       "  <thead>\n",
       "    <tr style=\"text-align: right;\">\n",
       "      <th></th>\n",
       "      <th>order_no</th>\n",
       "      <th>customer_name</th>\n",
       "      <th>item_name</th>\n",
       "      <th>item_no</th>\n",
       "      <th>item_amount</th>\n",
       "      <th>status</th>\n",
       "    </tr>\n",
       "  </thead>\n",
       "  <tbody>\n",
       "    <tr>\n",
       "      <th>0</th>\n",
       "      <td>2</td>\n",
       "      <td>Bob</td>\n",
       "      <td>VR glasses</td>\n",
       "      <td>200</td>\n",
       "      <td>400.0</td>\n",
       "      <td>Shipped</td>\n",
       "    </tr>\n",
       "    <tr>\n",
       "      <th>1</th>\n",
       "      <td>2</td>\n",
       "      <td>Bob</td>\n",
       "      <td>Pet robot</td>\n",
       "      <td>201</td>\n",
       "      <td>100.0</td>\n",
       "      <td>Shipped</td>\n",
       "    </tr>\n",
       "  </tbody>\n",
       "</table>\n",
       "</div>"
      ],
      "text/plain": [
       "   order_no customer_name   item_name  item_no  item_amount   status\n",
       "0         2           Bob  VR glasses      200        400.0  Shipped\n",
       "1         2           Bob   Pet robot      201        100.0  Shipped"
      ]
     },
     "execution_count": 23,
     "metadata": {},
     "output_type": "execute_result"
    }
   ],
   "source": [
    "sql_query = resp.content.replace('[input_customer_name]',\"'Bob'\")\n",
    "sql_query = sql_query.replace('[input_order_number]','-999')\n",
    "import pandas as pd\n",
    "\n",
    "df = pd.read_sql_query(sql_query, conn)\n",
    "df"
   ]
  },
  {
   "cell_type": "code",
   "execution_count": 64,
   "id": "3ceb8fba-63d7-4f47-89cf-2131a017a3e1",
   "metadata": {},
   "outputs": [
    {
     "data": {
      "text/html": [
       "<div>\n",
       "<style scoped>\n",
       "    .dataframe tbody tr th:only-of-type {\n",
       "        vertical-align: middle;\n",
       "    }\n",
       "\n",
       "    .dataframe tbody tr th {\n",
       "        vertical-align: top;\n",
       "    }\n",
       "\n",
       "    .dataframe thead th {\n",
       "        text-align: right;\n",
       "    }\n",
       "</style>\n",
       "<table border=\"1\" class=\"dataframe\">\n",
       "  <thead>\n",
       "    <tr style=\"text-align: right;\">\n",
       "      <th></th>\n",
       "      <th>order_no</th>\n",
       "      <th>customer_name</th>\n",
       "      <th>item_name</th>\n",
       "      <th>item_no</th>\n",
       "      <th>item_amount</th>\n",
       "      <th>status</th>\n",
       "    </tr>\n",
       "  </thead>\n",
       "  <tbody>\n",
       "    <tr>\n",
       "      <th>0</th>\n",
       "      <td>2</td>\n",
       "      <td>Bob</td>\n",
       "      <td>VR glasses</td>\n",
       "      <td>200</td>\n",
       "      <td>400.0</td>\n",
       "      <td>Shipped</td>\n",
       "    </tr>\n",
       "    <tr>\n",
       "      <th>1</th>\n",
       "      <td>2</td>\n",
       "      <td>Bob</td>\n",
       "      <td>Pet robot</td>\n",
       "      <td>201</td>\n",
       "      <td>100.0</td>\n",
       "      <td>Shipped</td>\n",
       "    </tr>\n",
       "  </tbody>\n",
       "</table>\n",
       "</div>"
      ],
      "text/plain": [
       "   order_no customer_name   item_name  item_no  item_amount   status\n",
       "0         2           Bob  VR glasses      200        400.0  Shipped\n",
       "1         2           Bob   Pet robot      201        100.0  Shipped"
      ]
     },
     "execution_count": 64,
     "metadata": {},
     "output_type": "execute_result"
    }
   ],
   "source": [
    "sql_query = resp.content.replace('[input_customer_name]',\"'unknown'\")\n",
    "sql_query = sql_query.replace('[input_order_number]','2')\n",
    "import pandas as pd\n",
    "\n",
    "df = pd.read_sql_query(sql_query, conn)\n",
    "df"
   ]
  },
  {
   "cell_type": "markdown",
   "id": "499aad73-8a45-490d-be5c-3bc0fed4f097",
   "metadata": {},
   "source": [
    "### Define function to get order status from database"
   ]
  },
  {
   "cell_type": "code",
   "execution_count": 5,
   "id": "1d49bca8-f95a-41bb-82a7-5f96f6c39f9e",
   "metadata": {},
   "outputs": [],
   "source": [
    "import pandas as pd\n",
    "\n",
    "def get_order_info(inp, inp_type):\n",
    "    if inp_type == 'name':\n",
    "        sql_query = resp.content.replace('[input_customer_name]',f\"'{inp}'\")        \n",
    "        sql_query = sql_query.replace('[input_order_number]','-999')\n",
    "    else:\n",
    "        sql_query = resp.content.replace('[input_customer_name]',\"'unknown'\")\n",
    "        sql_query = sql_query.replace('[input_order_number]',f\"{inp}\")       \n",
    "    df = pd.read_sql_query(sql_query, conn)\n",
    "    customer_name = df['customer_name'].unique()\n",
    "    cust_status= f'Dear {customer_name[0]}, As per our tracking information here are the status of items in your order\\n'\n",
    "    for i,r in df.iterrows():\n",
    "        item_name = r['item_name']\n",
    "        status = r['status']\n",
    "        cust_status += f\"{item_name} is in status {status}\\n\"\n",
    "    return cust_status"
   ]
  },
  {
   "cell_type": "code",
   "execution_count": 67,
   "id": "f2b24299-1aaa-41e5-9c7c-4d92277b822f",
   "metadata": {},
   "outputs": [
    {
     "name": "stdout",
     "output_type": "stream",
     "text": [
      "cust_status Dear Bob, As per our tracking information here are the status of items in your order\n",
      "VR glasses is in status Shipped\n",
      "Pet robot is in status Shipped\n",
      "\n"
     ]
    },
    {
     "data": {
      "text/plain": [
       "'Dear Bob, As per our tracking information here are the status of items in your order\\nVR glasses is in status Shipped\\nPet robot is in status Shipped\\n'"
      ]
     },
     "execution_count": 67,
     "metadata": {},
     "output_type": "execute_result"
    }
   ],
   "source": [
    "inp = 'Bob'\n",
    "inp_type = 'name'\n",
    "get_order_info(inp, inp_type)"
   ]
  },
  {
   "cell_type": "code",
   "execution_count": null,
   "id": "0e924cba-798b-4480-8799-ee198eda3156",
   "metadata": {},
   "outputs": [],
   "source": [
    "# !pip install spacy"
   ]
  },
  {
   "cell_type": "code",
   "execution_count": null,
   "id": "1b22f00d-a624-47fe-ba2e-944d7fc22fcc",
   "metadata": {},
   "outputs": [],
   "source": [
    "#!python -m spacy download en_core_web_sm"
   ]
  },
  {
   "cell_type": "markdown",
   "id": "7ab07acb-5ab2-47db-a2f1-bd0ecb9e8385",
   "metadata": {},
   "source": [
    "## Create Chatbot Code "
   ]
  },
  {
   "cell_type": "code",
   "execution_count": 7,
   "id": "e0e5f062-8ae9-4b23-bcf2-34261d179d9b",
   "metadata": {},
   "outputs": [
    {
     "name": "stdout",
     "output_type": "stream",
     "text": [
      "Running on local URL:  http://127.0.0.1:7861\n",
      "\n",
      "To create a public link, set `share=True` in `launch()`.\n"
     ]
    },
    {
     "data": {
      "text/html": [
       "<div><iframe src=\"http://127.0.0.1:7861/\" width=\"100%\" height=\"500\" allow=\"autoplay; camera; microphone; clipboard-read; clipboard-write;\" frameborder=\"0\" allowfullscreen></iframe></div>"
      ],
      "text/plain": [
       "<IPython.core.display.HTML object>"
      ]
     },
     "metadata": {},
     "output_type": "display_data"
    },
    {
     "data": {
      "text/plain": []
     },
     "execution_count": 7,
     "metadata": {},
     "output_type": "execute_result"
    }
   ],
   "source": [
    "import gradio as gr\n",
    "import os\n",
    "import spacy\n",
    "from langchain_openai import ChatOpenAI\n",
    "from langchain_core.messages import HumanMessage, SystemMessage\n",
    "import pandas as pd\n",
    "#from .autonotebook import tqdm as notebook_tqdm\n",
    "\n",
    "chat = ChatOpenAI(openai_api_key=os.getenv(\"open_ai_secret_key\"))\n",
    "nlp = spacy.load(\"en_core_web_sm\")\n",
    "\n",
    "def chat_with_customer(message, history):\n",
    "   \n",
    "    chat_history = []\n",
    "    inp_type=''\n",
    "    augmented_query= ''\n",
    "\n",
    "    try:\n",
    "        # Attempt to convert the input to an integer\n",
    "        converted_input = int(message)\n",
    "        print(f\"order_no,{converted_input}\")\n",
    "        inp_type = 'order_no'\n",
    "        qry_result = get_order_info(converted_input, inp_type)\n",
    "        print ('qry_result',qry_result)\n",
    "        augmented_query=qry_result\n",
    "    except ValueError:\n",
    "        # If a ValueError occurs, it means the input wasn't an integer\n",
    "        print(f\"The input '{message}' is not an integer.\")\n",
    "\n",
    "    if inp_type != 'order_no':\n",
    "        doc = nlp(message)\n",
    "        # Look for proper nouns that could be names\n",
    "        name = [ent.text for ent in doc.ents if ent.label_ == \"PERSON\"]\n",
    "        if len(name) !=0 :\n",
    "            inp_type = 'name'\n",
    "            print('name',name)\n",
    "            qry_result = get_order_info(name[0], inp_type)\n",
    "            print ('qry_result',qry_result)\n",
    "            augmented_query=qry_result\n",
    "    \n",
    "    if 'order' in message:\n",
    "        augmented_query = \"\"\"ask customer to provide order number or customer name. \n",
    "        \n",
    "        \"\"\"\n",
    "    elif augmented_query != '':\n",
    "         augmented_query = \"answer using your name as ai chatbot and display the below message \" + augmented_query\n",
    "    else:\n",
    "        augmented_query=message   \n",
    "    print ('augmented_query',augmented_query)\n",
    "    chat_history.append(HumanMessage(content=augmented_query))\n",
    "    llm_response = chat.invoke(chat_history).content\n",
    "    return llm_response\n",
    "    \n",
    "gr.ChatInterface(chat_with_customer).launch()"
   ]
  },
  {
   "cell_type": "markdown",
   "id": "ce90aa5e-3556-43f1-ba52-414e78109422",
   "metadata": {},
   "source": [
    "### Sample output when customer enters order number"
   ]
  },
  {
   "cell_type": "markdown",
   "id": "274058ed-b9b3-4316-a7dc-ffbf171dde66",
   "metadata": {},
   "source": [
    "![order_sample](order_sample.png)"
   ]
  },
  {
   "cell_type": "markdown",
   "id": "0cc5e416-3f8f-46d4-a95d-4a43d2596190",
   "metadata": {},
   "source": [
    "### Sample output when customer enters name"
   ]
  },
  {
   "cell_type": "markdown",
   "id": "0b0431be-b20d-4372-a3bc-ef2615c95df4",
   "metadata": {},
   "source": [
    "![name_sample](name_sample.png)"
   ]
  },
  {
   "cell_type": "code",
   "execution_count": null,
   "id": "b2c9a4f2-e19b-47f8-b1a2-f39c4ab0d701",
   "metadata": {},
   "outputs": [],
   "source": []
  },
  {
   "cell_type": "code",
   "execution_count": null,
   "id": "97f8d660-a7b1-4d94-8e8b-f85de099e76b",
   "metadata": {},
   "outputs": [],
   "source": []
  }
 ],
 "metadata": {
  "kernelspec": {
   "display_name": "Python 3 (ipykernel)",
   "language": "python",
   "name": "python3"
  },
  "language_info": {
   "codemirror_mode": {
    "name": "ipython",
    "version": 3
   },
   "file_extension": ".py",
   "mimetype": "text/x-python",
   "name": "python",
   "nbconvert_exporter": "python",
   "pygments_lexer": "ipython3",
   "version": "3.9.4"
  }
 },
 "nbformat": 4,
 "nbformat_minor": 5
}
